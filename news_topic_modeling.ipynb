{
 "cells": [
  {
   "cell_type": "markdown",
   "metadata": {},
   "source": [
    "# An Exploration of Text Modeling with News Text Over Time"
   ]
  },
  {
   "cell_type": "markdown",
   "metadata": {},
   "source": [
    "##### I'll be exploring different ways to analyze text data using different topic modeling, word/document embedding, and time-series methodologies.\n",
    "\n",
    "##### Historical CNN stories have been sourced from https://cs.nyu.edu/~kcho/DMQA/"
   ]
  },
  {
   "cell_type": "markdown",
   "metadata": {},
   "source": [
    "### Common code for all methods"
   ]
  },
  {
   "cell_type": "code",
   "execution_count": 11,
   "metadata": {},
   "outputs": [],
   "source": [
    "library(tidyverse)\n",
    "library(tidytext)\n",
    "library(stringr)"
   ]
  },
  {
   "cell_type": "code",
   "execution_count": 36,
   "metadata": {},
   "outputs": [],
   "source": [
    "data(stop_words)"
   ]
  },
  {
   "cell_type": "code",
   "execution_count": 10,
   "metadata": {},
   "outputs": [],
   "source": [
    "data_dir <- 'cnn/stories/'"
   ]
  },
  {
   "cell_type": "code",
   "execution_count": 12,
   "metadata": {},
   "outputs": [],
   "source": [
    "story_files <- list.files(data_dir)"
   ]
  },
  {
   "cell_type": "code",
   "execution_count": 44,
   "metadata": {},
   "outputs": [
    {
     "data": {
      "text/html": [
       "'0001d1afc246a7964130f43ae940af6bc6c57f01.story'"
      ],
      "text/latex": [
       "'0001d1afc246a7964130f43ae940af6bc6c57f01.story'"
      ],
      "text/markdown": [
       "'0001d1afc246a7964130f43ae940af6bc6c57f01.story'"
      ],
      "text/plain": [
       "[1] \"0001d1afc246a7964130f43ae940af6bc6c57f01.story\""
      ]
     },
     "metadata": {},
     "output_type": "display_data"
    }
   ],
   "source": [
    "story_files[1]"
   ]
  },
  {
   "cell_type": "markdown",
   "metadata": {},
   "source": [
    "### Tokenizing sample documents"
   ]
  },
  {
   "cell_type": "code",
   "execution_count": 45,
   "metadata": {},
   "outputs": [],
   "source": [
    "story_samples <- data_frame(story = paste0(data_dir, story_files[1:100])) %>%\n",
    "    mutate(text = map(story, read_lines))"
   ]
  },
  {
   "cell_type": "code",
   "execution_count": 46,
   "metadata": {},
   "outputs": [],
   "source": [
    "story_samples <- story_samples %>% unnest() %>%\n",
    "    filter(text != '') %>% mutate(story = basename(story)) %>% group_by(story) %>%\n",
    "    mutate(linenumber = row_number()) %>% ungroup()"
   ]
  },
  {
   "cell_type": "code",
   "execution_count": 47,
   "metadata": {},
   "outputs": [],
   "source": [
    "tidy_story_samples <- story_samples %>% unnest_tokens(word, text)"
   ]
  },
  {
   "cell_type": "code",
   "execution_count": 48,
   "metadata": {},
   "outputs": [],
   "source": [
    "tidy_story_samples <- tidy_story_samples %>% anti_join(stop_words, by = 'word')"
   ]
  },
  {
   "cell_type": "code",
   "execution_count": 49,
   "metadata": {},
   "outputs": [
    {
     "data": {
      "text/html": [
       "<table>\n",
       "<thead><tr><th scope=col>word</th><th scope=col>n</th></tr></thead>\n",
       "<tbody>\n",
       "\t<tr><td>highlight </td><td>352       </td></tr>\n",
       "\t<tr><td>people    </td><td>162       </td></tr>\n",
       "\t<tr><td>cnn       </td><td>142       </td></tr>\n",
       "\t<tr><td>u.s       </td><td>141       </td></tr>\n",
       "\t<tr><td>government</td><td> 98       </td></tr>\n",
       "\t<tr><td>united    </td><td> 96       </td></tr>\n",
       "</tbody>\n",
       "</table>\n"
      ],
      "text/latex": [
       "\\begin{tabular}{r|ll}\n",
       " word & n\\\\\n",
       "\\hline\n",
       "\t highlight  & 352       \\\\\n",
       "\t people     & 162       \\\\\n",
       "\t cnn        & 142       \\\\\n",
       "\t u.s        & 141       \\\\\n",
       "\t government &  98       \\\\\n",
       "\t united     &  96       \\\\\n",
       "\\end{tabular}\n"
      ],
      "text/markdown": [
       "\n",
       "word | n | \n",
       "|---|---|---|---|---|---|\n",
       "| highlight  | 352        | \n",
       "| people     | 162        | \n",
       "| cnn        | 142        | \n",
       "| u.s        | 141        | \n",
       "| government |  98        | \n",
       "| united     |  96        | \n",
       "\n",
       "\n"
      ],
      "text/plain": [
       "  word       n  \n",
       "1 highlight  352\n",
       "2 people     162\n",
       "3 cnn        142\n",
       "4 u.s        141\n",
       "5 government  98\n",
       "6 united      96"
      ]
     },
     "metadata": {},
     "output_type": "display_data"
    }
   ],
   "source": [
    "# simple word count\n",
    "tidy_story_samples %>% count(word, sort = TRUE) %>% head()"
   ]
  },
  {
   "cell_type": "markdown",
   "metadata": {},
   "source": [
    "### TF-IDF"
   ]
  },
  {
   "cell_type": "code",
   "execution_count": 53,
   "metadata": {},
   "outputs": [],
   "source": [
    "tfidf_story_words <- story_samples %>% unnest_tokens(word, text) %>% \n",
    "    count(story, word, sort = TRUE) %>% ungroup()"
   ]
  },
  {
   "cell_type": "code",
   "execution_count": 56,
   "metadata": {},
   "outputs": [],
   "source": [
    "tfidf_words <- tfidf_story_words %>% bind_tf_idf(word, story, n)"
   ]
  },
  {
   "cell_type": "code",
   "execution_count": 58,
   "metadata": {},
   "outputs": [
    {
     "data": {
      "text/html": [
       "<table>\n",
       "<thead><tr><th scope=col>story</th><th scope=col>word</th><th scope=col>n</th><th scope=col>tf</th><th scope=col>idf</th><th scope=col>tf_idf</th></tr></thead>\n",
       "<tbody>\n",
       "\t<tr><td>00465603227f7f56fcd37e10f4cd44e57d7647d8.story</td><td>snapshots                                     </td><td> 2                                            </td><td>0.05555556                                    </td><td>4.605170                                      </td><td>0.2558428                                     </td></tr>\n",
       "\t<tr><td>0044e296ecfe3ba57a351ad2a36d034491e878ce.story</td><td>crosby                                        </td><td>11                                            </td><td>0.04700855                                    </td><td>4.605170                                      </td><td>0.2164824                                     </td></tr>\n",
       "\t<tr><td>00465603227f7f56fcd37e10f4cd44e57d7647d8.story</td><td>cnn.com                                       </td><td> 2                                            </td><td>0.05555556                                    </td><td>3.506558                                      </td><td>0.1948088                                     </td></tr>\n",
       "\t<tr><td>00465603227f7f56fcd37e10f4cd44e57d7647d8.story</td><td>gallery                                       </td><td> 2                                            </td><td>0.05555556                                    </td><td>3.506558                                      </td><td>0.1948088                                     </td></tr>\n",
       "\t<tr><td>0036c48d80c270465bffced3e233fe39e5950431.story</td><td>titanic                                       </td><td>13                                            </td><td>0.04024768                                    </td><td>4.605170                                      </td><td>0.1853474                                     </td></tr>\n",
       "\t<tr><td>000940f2bb357ac04a236a232156d8b9b18d1667.story</td><td>kasem                                         </td><td>18                                            </td><td>0.03578529                                    </td><td>4.605170                                      </td><td>0.1647973                                     </td></tr>\n",
       "\t<tr><td>0015194573f9b4430319683cde41e4aa17092a9d.story</td><td>shark                                         </td><td> 7                                            </td><td>0.03500000                                    </td><td>4.605170                                      </td><td>0.1611810                                     </td></tr>\n",
       "\t<tr><td>000c835555db62e319854d9f8912061cdca1893e.story</td><td>cardinals                                     </td><td>15                                            </td><td>0.03355705                                    </td><td>4.605170                                      </td><td>0.1545359                                     </td></tr>\n",
       "\t<tr><td>002c962834b7886c600a31a35053543e324883bd.story</td><td>hinckley                                      </td><td>36                                            </td><td>0.03351955                                    </td><td>4.605170                                      </td><td>0.1543632                                     </td></tr>\n",
       "\t<tr><td>002c715ea1428373cc432c9508d4a48d2e6069f4.story</td><td>app                                           </td><td>16                                            </td><td>0.03603604                                    </td><td>3.912023                                      </td><td>0.1409738                                     </td></tr>\n",
       "\t<tr><td>001f9c554f1a29169413d0d2f138212a14c6dcf1.story</td><td>greek                                         </td><td> 7                                            </td><td>0.03004292                                    </td><td>4.605170                                      </td><td>0.1383528                                     </td></tr>\n",
       "\t<tr><td>0044e296ecfe3ba57a351ad2a36d034491e878ce.story</td><td>jogger                                        </td><td> 7                                            </td><td>0.02991453                                    </td><td>4.605170                                      </td><td>0.1377615                                     </td></tr>\n",
       "\t<tr><td>00385e5382f413e0c4234ddf71d692ed1e89622f.story</td><td>whale                                         </td><td> 7                                            </td><td>0.02928870                                    </td><td>4.605170                                      </td><td>0.1348795                                     </td></tr>\n",
       "\t<tr><td>001ee59c375363263821474d40e4386ab91d5145.story</td><td>harvard                                       </td><td> 7                                            </td><td>0.02857143                                    </td><td>4.605170                                      </td><td>0.1315763                                     </td></tr>\n",
       "\t<tr><td>003be5a8108fcd3f133ddef14a5fc593701566f3.story</td><td>lunar                                         </td><td>10                                            </td><td>0.02570694                                    </td><td>4.605170                                      </td><td>0.1183848                                     </td></tr>\n",
       "\t<tr><td>00465603227f7f56fcd37e10f4cd44e57d7647d8.story</td><td>travel                                        </td><td> 2                                            </td><td>0.05555556                                    </td><td>2.120264                                      </td><td>0.1177924                                     </td></tr>\n",
       "\t<tr><td>001f9c554f1a29169413d0d2f138212a14c6dcf1.story</td><td>libyan                                        </td><td> 7                                            </td><td>0.03004292                                    </td><td>3.912023                                      </td><td>0.1175286                                     </td></tr>\n",
       "\t<tr><td>0015194573f9b4430319683cde41e4aa17092a9d.story</td><td>maui                                          </td><td> 5                                            </td><td>0.02500000                                    </td><td>4.605170                                      </td><td>0.1151293                                     </td></tr>\n",
       "\t<tr><td>000c835555db62e319854d9f8912061cdca1893e.story</td><td>francis                                       </td><td>11                                            </td><td>0.02460850                                    </td><td>4.605170                                      </td><td>0.1133263                                     </td></tr>\n",
       "\t<tr><td>002a083c3893b1fde734280b9eec28d428a02d2b.story</td><td>space                                         </td><td> 9                                            </td><td>0.03501946                                    </td><td>3.218876                                      </td><td>0.1127233                                     </td></tr>\n",
       "\t<tr><td>002a6553123aa9c80a49b1e6e54c5a684975e452.story</td><td>mubarak                                       </td><td>11                                            </td><td>0.02879581                                    </td><td>3.912023                                      </td><td>0.1126499                                     </td></tr>\n",
       "\t<tr><td>001fb4ca3bd3a0c1cd91fdc813f0ebeeac678e76.story</td><td>garcia                                        </td><td>14                                            </td><td>0.02874743                                    </td><td>3.912023                                      </td><td>0.1124606                                     </td></tr>\n",
       "\t<tr><td>004cc1a4ecd2ce6327d67b801756847063e48c28.story</td><td>postal                                        </td><td>25                                            </td><td>0.02420136                                    </td><td>4.605170                                      </td><td>0.1114514                                     </td></tr>\n",
       "\t<tr><td>0033829349643e2964a8c3ce5fd997116ce43f7c.story</td><td>mdc                                           </td><td>12                                            </td><td>0.02371542                                    </td><td>4.605170                                      </td><td>0.1092135                                     </td></tr>\n",
       "\t<tr><td>00465603227f7f56fcd37e10f4cd44e57d7647d8.story</td><td>ireporter                                     </td><td> 1                                            </td><td>0.02777778                                    </td><td>3.912023                                      </td><td>0.1086673                                     </td></tr>\n",
       "\t<tr><td>00465603227f7f56fcd37e10f4cd44e57d7647d8.story</td><td>submit                                        </td><td> 1                                            </td><td>0.02777778                                    </td><td>3.912023                                      </td><td>0.1086673                                     </td></tr>\n",
       "\t<tr><td>00465603227f7f56fcd37e10f4cd44e57d7647d8.story</td><td>weekly                                        </td><td> 1                                            </td><td>0.02777778                                    </td><td>3.912023                                      </td><td>0.1086673                                     </td></tr>\n",
       "\t<tr><td>0043612320aaede50bf515eacc66c7daeee9a21b.story</td><td>shabaab                                       </td><td> 9                                            </td><td>0.02343750                                    </td><td>4.605170                                      </td><td>0.1079337                                     </td></tr>\n",
       "\t<tr><td>001c839e1d76c400129f6c2799957c74e9895815.story</td><td>ebola                                         </td><td>25                                            </td><td>0.02338634                                    </td><td>4.605170                                      </td><td>0.1076981                                     </td></tr>\n",
       "\t<tr><td>002a083c3893b1fde734280b9eec28d428a02d2b.story</td><td>colbert                                       </td><td> 6                                            </td><td>0.02334630                                    </td><td>4.605170                                      </td><td>0.1075137                                     </td></tr>\n",
       "\t<tr><td>⋮</td><td>⋮</td><td>⋮</td><td>⋮</td><td>⋮</td><td>⋮</td></tr>\n",
       "\t<tr><td>002ab555011a771d8390288495066e30028292ee.story</td><td>highlight                                     </td><td>3                                             </td><td>0.005172414                                   </td><td>0                                             </td><td>0                                             </td></tr>\n",
       "\t<tr><td>002c115c31577d0e9443794d27c2df51312858b4.story</td><td>highlight                                     </td><td>3                                             </td><td>0.003432494                                   </td><td>0                                             </td><td>0                                             </td></tr>\n",
       "\t<tr><td>0031f262451b4b335dfda3aca9b533d244244e1e.story</td><td>highlight                                     </td><td>3                                             </td><td>0.004739336                                   </td><td>0                                             </td><td>0                                             </td></tr>\n",
       "\t<tr><td>003477088ee670dee05e53d0b24ebfcf9a692cec.story</td><td>highlight                                     </td><td>3                                             </td><td>0.003045685                                   </td><td>0                                             </td><td>0                                             </td></tr>\n",
       "\t<tr><td>0036c48d80c270465bffced3e233fe39e5950431.story</td><td>highlight                                     </td><td>3                                             </td><td>0.009287926                                   </td><td>0                                             </td><td>0                                             </td></tr>\n",
       "\t<tr><td>0036d1138155e2644813f9c218c743e982e27a27.story</td><td>a                                             </td><td>3                                             </td><td>0.009708738                                   </td><td>0                                             </td><td>0                                             </td></tr>\n",
       "\t<tr><td>0036d1138155e2644813f9c218c743e982e27a27.story</td><td>highlight                                     </td><td>3                                             </td><td>0.009708738                                   </td><td>0                                             </td><td>0                                             </td></tr>\n",
       "\t<tr><td>003b856704634429282caa28ef8b0c052e04bf18.story</td><td>highlight                                     </td><td>3                                             </td><td>0.007058824                                   </td><td>0                                             </td><td>0                                             </td></tr>\n",
       "\t<tr><td>003be5a8108fcd3f133ddef14a5fc593701566f3.story</td><td>highlight                                     </td><td>3                                             </td><td>0.007712082                                   </td><td>0                                             </td><td>0                                             </td></tr>\n",
       "\t<tr><td>003cefcdcf96dbca76aa17d72ee612fa3b40651d.story</td><td>highlight                                     </td><td>3                                             </td><td>0.004043127                                   </td><td>0                                             </td><td>0                                             </td></tr>\n",
       "\t<tr><td>003d23a256ce34d73e05968a04727c0ed4a2a456.story</td><td>highlight                                     </td><td>3                                             </td><td>0.003916449                                   </td><td>0                                             </td><td>0                                             </td></tr>\n",
       "\t<tr><td>0043612320aaede50bf515eacc66c7daeee9a21b.story</td><td>highlight                                     </td><td>3                                             </td><td>0.007812500                                   </td><td>0                                             </td><td>0                                             </td></tr>\n",
       "\t<tr><td>004636d2b06ffc786148189e4d8e5e950bd46e8f.story</td><td>highlight                                     </td><td>3                                             </td><td>0.006315789                                   </td><td>0                                             </td><td>0                                             </td></tr>\n",
       "\t<tr><td>00465603227f7f56fcd37e10f4cd44e57d7647d8.story</td><td>highlight                                     </td><td>3                                             </td><td>0.083333333                                   </td><td>0                                             </td><td>0                                             </td></tr>\n",
       "\t<tr><td>0046a356cc90e393be41135da101f83da40ee6a3.story</td><td>highlight                                     </td><td>3                                             </td><td>0.014285714                                   </td><td>0                                             </td><td>0                                             </td></tr>\n",
       "\t<tr><td>0046a356cc90e393be41135da101f83da40ee6a3.story</td><td>of                                            </td><td>3                                             </td><td>0.014285714                                   </td><td>0                                             </td><td>0                                             </td></tr>\n",
       "\t<tr><td>004d2253b243331ec330b4bc188f9289fc5730f6.story</td><td>highlight                                     </td><td>3                                             </td><td>0.002710027                                   </td><td>0                                             </td><td>0                                             </td></tr>\n",
       "\t<tr><td>004e6e14b9498ae85e92cbb81adf76ac8b21f472.story</td><td>highlight                                     </td><td>3                                             </td><td>0.002727273                                   </td><td>0                                             </td><td>0                                             </td></tr>\n",
       "\t<tr><td>0015194573f9b4430319683cde41e4aa17092a9d.story</td><td>a                                             </td><td>2                                             </td><td>0.010000000                                   </td><td>0                                             </td><td>0                                             </td></tr>\n",
       "\t<tr><td>0015194573f9b4430319683cde41e4aa17092a9d.story</td><td>of                                            </td><td>2                                             </td><td>0.010000000                                   </td><td>0                                             </td><td>0                                             </td></tr>\n",
       "\t<tr><td>001ee59c375363263821474d40e4386ab91d5145.story</td><td>highlight                                     </td><td>2                                             </td><td>0.008163265                                   </td><td>0                                             </td><td>0                                             </td></tr>\n",
       "\t<tr><td>00200e794fa41d3f7ce92cbf43e9fd4cd652bb09.story</td><td>highlight                                     </td><td>2                                             </td><td>0.003952569                                   </td><td>0                                             </td><td>0                                             </td></tr>\n",
       "\t<tr><td>0029837648b848c9cbde4c26744609e85f528a6c.story</td><td>highlight                                     </td><td>2                                             </td><td>0.003490401                                   </td><td>0                                             </td><td>0                                             </td></tr>\n",
       "\t<tr><td>00385e5382f413e0c4234ddf71d692ed1e89622f.story</td><td>highlight                                     </td><td>2                                             </td><td>0.008368201                                   </td><td>0                                             </td><td>0                                             </td></tr>\n",
       "\t<tr><td>0041698b4463a633f912681b96f73648cb012e33.story</td><td>highlight                                     </td><td>2                                             </td><td>0.002022245                                   </td><td>0                                             </td><td>0                                             </td></tr>\n",
       "\t<tr><td>0044e296ecfe3ba57a351ad2a36d034491e878ce.story</td><td>highlight                                     </td><td>2                                             </td><td>0.008547009                                   </td><td>0                                             </td><td>0                                             </td></tr>\n",
       "\t<tr><td>00465603227f7f56fcd37e10f4cd44e57d7647d8.story</td><td>a                                             </td><td>2                                             </td><td>0.055555556                                   </td><td>0                                             </td><td>0                                             </td></tr>\n",
       "\t<tr><td>00465603227f7f56fcd37e10f4cd44e57d7647d8.story</td><td>of                                            </td><td>2                                             </td><td>0.055555556                                   </td><td>0                                             </td><td>0                                             </td></tr>\n",
       "\t<tr><td>002756fbd876d0da1c7d6e6d464c25d5316de3e8.story</td><td>a                                             </td><td>1                                             </td><td>0.007751938                                   </td><td>0                                             </td><td>0                                             </td></tr>\n",
       "\t<tr><td>00385e5382f413e0c4234ddf71d692ed1e89622f.story</td><td>of                                            </td><td>1                                             </td><td>0.004184100                                   </td><td>0                                             </td><td>0                                             </td></tr>\n",
       "</tbody>\n",
       "</table>\n"
      ],
      "text/latex": [
       "\\begin{tabular}{r|llllll}\n",
       " story & word & n & tf & idf & tf\\_idf\\\\\n",
       "\\hline\n",
       "\t 00465603227f7f56fcd37e10f4cd44e57d7647d8.story & snapshots                                      &  2                                             & 0.05555556                                     & 4.605170                                       & 0.2558428                                     \\\\\n",
       "\t 0044e296ecfe3ba57a351ad2a36d034491e878ce.story & crosby                                         & 11                                             & 0.04700855                                     & 4.605170                                       & 0.2164824                                     \\\\\n",
       "\t 00465603227f7f56fcd37e10f4cd44e57d7647d8.story & cnn.com                                        &  2                                             & 0.05555556                                     & 3.506558                                       & 0.1948088                                     \\\\\n",
       "\t 00465603227f7f56fcd37e10f4cd44e57d7647d8.story & gallery                                        &  2                                             & 0.05555556                                     & 3.506558                                       & 0.1948088                                     \\\\\n",
       "\t 0036c48d80c270465bffced3e233fe39e5950431.story & titanic                                        & 13                                             & 0.04024768                                     & 4.605170                                       & 0.1853474                                     \\\\\n",
       "\t 000940f2bb357ac04a236a232156d8b9b18d1667.story & kasem                                          & 18                                             & 0.03578529                                     & 4.605170                                       & 0.1647973                                     \\\\\n",
       "\t 0015194573f9b4430319683cde41e4aa17092a9d.story & shark                                          &  7                                             & 0.03500000                                     & 4.605170                                       & 0.1611810                                     \\\\\n",
       "\t 000c835555db62e319854d9f8912061cdca1893e.story & cardinals                                      & 15                                             & 0.03355705                                     & 4.605170                                       & 0.1545359                                     \\\\\n",
       "\t 002c962834b7886c600a31a35053543e324883bd.story & hinckley                                       & 36                                             & 0.03351955                                     & 4.605170                                       & 0.1543632                                     \\\\\n",
       "\t 002c715ea1428373cc432c9508d4a48d2e6069f4.story & app                                            & 16                                             & 0.03603604                                     & 3.912023                                       & 0.1409738                                     \\\\\n",
       "\t 001f9c554f1a29169413d0d2f138212a14c6dcf1.story & greek                                          &  7                                             & 0.03004292                                     & 4.605170                                       & 0.1383528                                     \\\\\n",
       "\t 0044e296ecfe3ba57a351ad2a36d034491e878ce.story & jogger                                         &  7                                             & 0.02991453                                     & 4.605170                                       & 0.1377615                                     \\\\\n",
       "\t 00385e5382f413e0c4234ddf71d692ed1e89622f.story & whale                                          &  7                                             & 0.02928870                                     & 4.605170                                       & 0.1348795                                     \\\\\n",
       "\t 001ee59c375363263821474d40e4386ab91d5145.story & harvard                                        &  7                                             & 0.02857143                                     & 4.605170                                       & 0.1315763                                     \\\\\n",
       "\t 003be5a8108fcd3f133ddef14a5fc593701566f3.story & lunar                                          & 10                                             & 0.02570694                                     & 4.605170                                       & 0.1183848                                     \\\\\n",
       "\t 00465603227f7f56fcd37e10f4cd44e57d7647d8.story & travel                                         &  2                                             & 0.05555556                                     & 2.120264                                       & 0.1177924                                     \\\\\n",
       "\t 001f9c554f1a29169413d0d2f138212a14c6dcf1.story & libyan                                         &  7                                             & 0.03004292                                     & 3.912023                                       & 0.1175286                                     \\\\\n",
       "\t 0015194573f9b4430319683cde41e4aa17092a9d.story & maui                                           &  5                                             & 0.02500000                                     & 4.605170                                       & 0.1151293                                     \\\\\n",
       "\t 000c835555db62e319854d9f8912061cdca1893e.story & francis                                        & 11                                             & 0.02460850                                     & 4.605170                                       & 0.1133263                                     \\\\\n",
       "\t 002a083c3893b1fde734280b9eec28d428a02d2b.story & space                                          &  9                                             & 0.03501946                                     & 3.218876                                       & 0.1127233                                     \\\\\n",
       "\t 002a6553123aa9c80a49b1e6e54c5a684975e452.story & mubarak                                        & 11                                             & 0.02879581                                     & 3.912023                                       & 0.1126499                                     \\\\\n",
       "\t 001fb4ca3bd3a0c1cd91fdc813f0ebeeac678e76.story & garcia                                         & 14                                             & 0.02874743                                     & 3.912023                                       & 0.1124606                                     \\\\\n",
       "\t 004cc1a4ecd2ce6327d67b801756847063e48c28.story & postal                                         & 25                                             & 0.02420136                                     & 4.605170                                       & 0.1114514                                     \\\\\n",
       "\t 0033829349643e2964a8c3ce5fd997116ce43f7c.story & mdc                                            & 12                                             & 0.02371542                                     & 4.605170                                       & 0.1092135                                     \\\\\n",
       "\t 00465603227f7f56fcd37e10f4cd44e57d7647d8.story & ireporter                                      &  1                                             & 0.02777778                                     & 3.912023                                       & 0.1086673                                     \\\\\n",
       "\t 00465603227f7f56fcd37e10f4cd44e57d7647d8.story & submit                                         &  1                                             & 0.02777778                                     & 3.912023                                       & 0.1086673                                     \\\\\n",
       "\t 00465603227f7f56fcd37e10f4cd44e57d7647d8.story & weekly                                         &  1                                             & 0.02777778                                     & 3.912023                                       & 0.1086673                                     \\\\\n",
       "\t 0043612320aaede50bf515eacc66c7daeee9a21b.story & shabaab                                        &  9                                             & 0.02343750                                     & 4.605170                                       & 0.1079337                                     \\\\\n",
       "\t 001c839e1d76c400129f6c2799957c74e9895815.story & ebola                                          & 25                                             & 0.02338634                                     & 4.605170                                       & 0.1076981                                     \\\\\n",
       "\t 002a083c3893b1fde734280b9eec28d428a02d2b.story & colbert                                        &  6                                             & 0.02334630                                     & 4.605170                                       & 0.1075137                                     \\\\\n",
       "\t ⋮ & ⋮ & ⋮ & ⋮ & ⋮ & ⋮\\\\\n",
       "\t 002ab555011a771d8390288495066e30028292ee.story & highlight                                      & 3                                              & 0.005172414                                    & 0                                              & 0                                             \\\\\n",
       "\t 002c115c31577d0e9443794d27c2df51312858b4.story & highlight                                      & 3                                              & 0.003432494                                    & 0                                              & 0                                             \\\\\n",
       "\t 0031f262451b4b335dfda3aca9b533d244244e1e.story & highlight                                      & 3                                              & 0.004739336                                    & 0                                              & 0                                             \\\\\n",
       "\t 003477088ee670dee05e53d0b24ebfcf9a692cec.story & highlight                                      & 3                                              & 0.003045685                                    & 0                                              & 0                                             \\\\\n",
       "\t 0036c48d80c270465bffced3e233fe39e5950431.story & highlight                                      & 3                                              & 0.009287926                                    & 0                                              & 0                                             \\\\\n",
       "\t 0036d1138155e2644813f9c218c743e982e27a27.story & a                                              & 3                                              & 0.009708738                                    & 0                                              & 0                                             \\\\\n",
       "\t 0036d1138155e2644813f9c218c743e982e27a27.story & highlight                                      & 3                                              & 0.009708738                                    & 0                                              & 0                                             \\\\\n",
       "\t 003b856704634429282caa28ef8b0c052e04bf18.story & highlight                                      & 3                                              & 0.007058824                                    & 0                                              & 0                                             \\\\\n",
       "\t 003be5a8108fcd3f133ddef14a5fc593701566f3.story & highlight                                      & 3                                              & 0.007712082                                    & 0                                              & 0                                             \\\\\n",
       "\t 003cefcdcf96dbca76aa17d72ee612fa3b40651d.story & highlight                                      & 3                                              & 0.004043127                                    & 0                                              & 0                                             \\\\\n",
       "\t 003d23a256ce34d73e05968a04727c0ed4a2a456.story & highlight                                      & 3                                              & 0.003916449                                    & 0                                              & 0                                             \\\\\n",
       "\t 0043612320aaede50bf515eacc66c7daeee9a21b.story & highlight                                      & 3                                              & 0.007812500                                    & 0                                              & 0                                             \\\\\n",
       "\t 004636d2b06ffc786148189e4d8e5e950bd46e8f.story & highlight                                      & 3                                              & 0.006315789                                    & 0                                              & 0                                             \\\\\n",
       "\t 00465603227f7f56fcd37e10f4cd44e57d7647d8.story & highlight                                      & 3                                              & 0.083333333                                    & 0                                              & 0                                             \\\\\n",
       "\t 0046a356cc90e393be41135da101f83da40ee6a3.story & highlight                                      & 3                                              & 0.014285714                                    & 0                                              & 0                                             \\\\\n",
       "\t 0046a356cc90e393be41135da101f83da40ee6a3.story & of                                             & 3                                              & 0.014285714                                    & 0                                              & 0                                             \\\\\n",
       "\t 004d2253b243331ec330b4bc188f9289fc5730f6.story & highlight                                      & 3                                              & 0.002710027                                    & 0                                              & 0                                             \\\\\n",
       "\t 004e6e14b9498ae85e92cbb81adf76ac8b21f472.story & highlight                                      & 3                                              & 0.002727273                                    & 0                                              & 0                                             \\\\\n",
       "\t 0015194573f9b4430319683cde41e4aa17092a9d.story & a                                              & 2                                              & 0.010000000                                    & 0                                              & 0                                             \\\\\n",
       "\t 0015194573f9b4430319683cde41e4aa17092a9d.story & of                                             & 2                                              & 0.010000000                                    & 0                                              & 0                                             \\\\\n",
       "\t 001ee59c375363263821474d40e4386ab91d5145.story & highlight                                      & 2                                              & 0.008163265                                    & 0                                              & 0                                             \\\\\n",
       "\t 00200e794fa41d3f7ce92cbf43e9fd4cd652bb09.story & highlight                                      & 2                                              & 0.003952569                                    & 0                                              & 0                                             \\\\\n",
       "\t 0029837648b848c9cbde4c26744609e85f528a6c.story & highlight                                      & 2                                              & 0.003490401                                    & 0                                              & 0                                             \\\\\n",
       "\t 00385e5382f413e0c4234ddf71d692ed1e89622f.story & highlight                                      & 2                                              & 0.008368201                                    & 0                                              & 0                                             \\\\\n",
       "\t 0041698b4463a633f912681b96f73648cb012e33.story & highlight                                      & 2                                              & 0.002022245                                    & 0                                              & 0                                             \\\\\n",
       "\t 0044e296ecfe3ba57a351ad2a36d034491e878ce.story & highlight                                      & 2                                              & 0.008547009                                    & 0                                              & 0                                             \\\\\n",
       "\t 00465603227f7f56fcd37e10f4cd44e57d7647d8.story & a                                              & 2                                              & 0.055555556                                    & 0                                              & 0                                             \\\\\n",
       "\t 00465603227f7f56fcd37e10f4cd44e57d7647d8.story & of                                             & 2                                              & 0.055555556                                    & 0                                              & 0                                             \\\\\n",
       "\t 002756fbd876d0da1c7d6e6d464c25d5316de3e8.story & a                                              & 1                                              & 0.007751938                                    & 0                                              & 0                                             \\\\\n",
       "\t 00385e5382f413e0c4234ddf71d692ed1e89622f.story & of                                             & 1                                              & 0.004184100                                    & 0                                              & 0                                             \\\\\n",
       "\\end{tabular}\n"
      ],
      "text/markdown": [
       "\n",
       "story | word | n | tf | idf | tf_idf | \n",
       "|---|---|---|---|---|---|---|---|---|---|---|---|---|---|---|---|---|---|---|---|---|---|---|---|---|---|---|---|---|---|---|---|---|---|---|---|---|---|---|---|---|---|---|---|---|---|---|---|---|---|---|---|---|---|---|---|---|---|---|---|---|\n",
       "| 00465603227f7f56fcd37e10f4cd44e57d7647d8.story | snapshots                                      |  2                                             | 0.05555556                                     | 4.605170                                       | 0.2558428                                      | \n",
       "| 0044e296ecfe3ba57a351ad2a36d034491e878ce.story | crosby                                         | 11                                             | 0.04700855                                     | 4.605170                                       | 0.2164824                                      | \n",
       "| 00465603227f7f56fcd37e10f4cd44e57d7647d8.story | cnn.com                                        |  2                                             | 0.05555556                                     | 3.506558                                       | 0.1948088                                      | \n",
       "| 00465603227f7f56fcd37e10f4cd44e57d7647d8.story | gallery                                        |  2                                             | 0.05555556                                     | 3.506558                                       | 0.1948088                                      | \n",
       "| 0036c48d80c270465bffced3e233fe39e5950431.story | titanic                                        | 13                                             | 0.04024768                                     | 4.605170                                       | 0.1853474                                      | \n",
       "| 000940f2bb357ac04a236a232156d8b9b18d1667.story | kasem                                          | 18                                             | 0.03578529                                     | 4.605170                                       | 0.1647973                                      | \n",
       "| 0015194573f9b4430319683cde41e4aa17092a9d.story | shark                                          |  7                                             | 0.03500000                                     | 4.605170                                       | 0.1611810                                      | \n",
       "| 000c835555db62e319854d9f8912061cdca1893e.story | cardinals                                      | 15                                             | 0.03355705                                     | 4.605170                                       | 0.1545359                                      | \n",
       "| 002c962834b7886c600a31a35053543e324883bd.story | hinckley                                       | 36                                             | 0.03351955                                     | 4.605170                                       | 0.1543632                                      | \n",
       "| 002c715ea1428373cc432c9508d4a48d2e6069f4.story | app                                            | 16                                             | 0.03603604                                     | 3.912023                                       | 0.1409738                                      | \n",
       "| 001f9c554f1a29169413d0d2f138212a14c6dcf1.story | greek                                          |  7                                             | 0.03004292                                     | 4.605170                                       | 0.1383528                                      | \n",
       "| 0044e296ecfe3ba57a351ad2a36d034491e878ce.story | jogger                                         |  7                                             | 0.02991453                                     | 4.605170                                       | 0.1377615                                      | \n",
       "| 00385e5382f413e0c4234ddf71d692ed1e89622f.story | whale                                          |  7                                             | 0.02928870                                     | 4.605170                                       | 0.1348795                                      | \n",
       "| 001ee59c375363263821474d40e4386ab91d5145.story | harvard                                        |  7                                             | 0.02857143                                     | 4.605170                                       | 0.1315763                                      | \n",
       "| 003be5a8108fcd3f133ddef14a5fc593701566f3.story | lunar                                          | 10                                             | 0.02570694                                     | 4.605170                                       | 0.1183848                                      | \n",
       "| 00465603227f7f56fcd37e10f4cd44e57d7647d8.story | travel                                         |  2                                             | 0.05555556                                     | 2.120264                                       | 0.1177924                                      | \n",
       "| 001f9c554f1a29169413d0d2f138212a14c6dcf1.story | libyan                                         |  7                                             | 0.03004292                                     | 3.912023                                       | 0.1175286                                      | \n",
       "| 0015194573f9b4430319683cde41e4aa17092a9d.story | maui                                           |  5                                             | 0.02500000                                     | 4.605170                                       | 0.1151293                                      | \n",
       "| 000c835555db62e319854d9f8912061cdca1893e.story | francis                                        | 11                                             | 0.02460850                                     | 4.605170                                       | 0.1133263                                      | \n",
       "| 002a083c3893b1fde734280b9eec28d428a02d2b.story | space                                          |  9                                             | 0.03501946                                     | 3.218876                                       | 0.1127233                                      | \n",
       "| 002a6553123aa9c80a49b1e6e54c5a684975e452.story | mubarak                                        | 11                                             | 0.02879581                                     | 3.912023                                       | 0.1126499                                      | \n",
       "| 001fb4ca3bd3a0c1cd91fdc813f0ebeeac678e76.story | garcia                                         | 14                                             | 0.02874743                                     | 3.912023                                       | 0.1124606                                      | \n",
       "| 004cc1a4ecd2ce6327d67b801756847063e48c28.story | postal                                         | 25                                             | 0.02420136                                     | 4.605170                                       | 0.1114514                                      | \n",
       "| 0033829349643e2964a8c3ce5fd997116ce43f7c.story | mdc                                            | 12                                             | 0.02371542                                     | 4.605170                                       | 0.1092135                                      | \n",
       "| 00465603227f7f56fcd37e10f4cd44e57d7647d8.story | ireporter                                      |  1                                             | 0.02777778                                     | 3.912023                                       | 0.1086673                                      | \n",
       "| 00465603227f7f56fcd37e10f4cd44e57d7647d8.story | submit                                         |  1                                             | 0.02777778                                     | 3.912023                                       | 0.1086673                                      | \n",
       "| 00465603227f7f56fcd37e10f4cd44e57d7647d8.story | weekly                                         |  1                                             | 0.02777778                                     | 3.912023                                       | 0.1086673                                      | \n",
       "| 0043612320aaede50bf515eacc66c7daeee9a21b.story | shabaab                                        |  9                                             | 0.02343750                                     | 4.605170                                       | 0.1079337                                      | \n",
       "| 001c839e1d76c400129f6c2799957c74e9895815.story | ebola                                          | 25                                             | 0.02338634                                     | 4.605170                                       | 0.1076981                                      | \n",
       "| 002a083c3893b1fde734280b9eec28d428a02d2b.story | colbert                                        |  6                                             | 0.02334630                                     | 4.605170                                       | 0.1075137                                      | \n",
       "| ⋮ | ⋮ | ⋮ | ⋮ | ⋮ | ⋮ | \n",
       "| 002ab555011a771d8390288495066e30028292ee.story | highlight                                      | 3                                              | 0.005172414                                    | 0                                              | 0                                              | \n",
       "| 002c115c31577d0e9443794d27c2df51312858b4.story | highlight                                      | 3                                              | 0.003432494                                    | 0                                              | 0                                              | \n",
       "| 0031f262451b4b335dfda3aca9b533d244244e1e.story | highlight                                      | 3                                              | 0.004739336                                    | 0                                              | 0                                              | \n",
       "| 003477088ee670dee05e53d0b24ebfcf9a692cec.story | highlight                                      | 3                                              | 0.003045685                                    | 0                                              | 0                                              | \n",
       "| 0036c48d80c270465bffced3e233fe39e5950431.story | highlight                                      | 3                                              | 0.009287926                                    | 0                                              | 0                                              | \n",
       "| 0036d1138155e2644813f9c218c743e982e27a27.story | a                                              | 3                                              | 0.009708738                                    | 0                                              | 0                                              | \n",
       "| 0036d1138155e2644813f9c218c743e982e27a27.story | highlight                                      | 3                                              | 0.009708738                                    | 0                                              | 0                                              | \n",
       "| 003b856704634429282caa28ef8b0c052e04bf18.story | highlight                                      | 3                                              | 0.007058824                                    | 0                                              | 0                                              | \n",
       "| 003be5a8108fcd3f133ddef14a5fc593701566f3.story | highlight                                      | 3                                              | 0.007712082                                    | 0                                              | 0                                              | \n",
       "| 003cefcdcf96dbca76aa17d72ee612fa3b40651d.story | highlight                                      | 3                                              | 0.004043127                                    | 0                                              | 0                                              | \n",
       "| 003d23a256ce34d73e05968a04727c0ed4a2a456.story | highlight                                      | 3                                              | 0.003916449                                    | 0                                              | 0                                              | \n",
       "| 0043612320aaede50bf515eacc66c7daeee9a21b.story | highlight                                      | 3                                              | 0.007812500                                    | 0                                              | 0                                              | \n",
       "| 004636d2b06ffc786148189e4d8e5e950bd46e8f.story | highlight                                      | 3                                              | 0.006315789                                    | 0                                              | 0                                              | \n",
       "| 00465603227f7f56fcd37e10f4cd44e57d7647d8.story | highlight                                      | 3                                              | 0.083333333                                    | 0                                              | 0                                              | \n",
       "| 0046a356cc90e393be41135da101f83da40ee6a3.story | highlight                                      | 3                                              | 0.014285714                                    | 0                                              | 0                                              | \n",
       "| 0046a356cc90e393be41135da101f83da40ee6a3.story | of                                             | 3                                              | 0.014285714                                    | 0                                              | 0                                              | \n",
       "| 004d2253b243331ec330b4bc188f9289fc5730f6.story | highlight                                      | 3                                              | 0.002710027                                    | 0                                              | 0                                              | \n",
       "| 004e6e14b9498ae85e92cbb81adf76ac8b21f472.story | highlight                                      | 3                                              | 0.002727273                                    | 0                                              | 0                                              | \n",
       "| 0015194573f9b4430319683cde41e4aa17092a9d.story | a                                              | 2                                              | 0.010000000                                    | 0                                              | 0                                              | \n",
       "| 0015194573f9b4430319683cde41e4aa17092a9d.story | of                                             | 2                                              | 0.010000000                                    | 0                                              | 0                                              | \n",
       "| 001ee59c375363263821474d40e4386ab91d5145.story | highlight                                      | 2                                              | 0.008163265                                    | 0                                              | 0                                              | \n",
       "| 00200e794fa41d3f7ce92cbf43e9fd4cd652bb09.story | highlight                                      | 2                                              | 0.003952569                                    | 0                                              | 0                                              | \n",
       "| 0029837648b848c9cbde4c26744609e85f528a6c.story | highlight                                      | 2                                              | 0.003490401                                    | 0                                              | 0                                              | \n",
       "| 00385e5382f413e0c4234ddf71d692ed1e89622f.story | highlight                                      | 2                                              | 0.008368201                                    | 0                                              | 0                                              | \n",
       "| 0041698b4463a633f912681b96f73648cb012e33.story | highlight                                      | 2                                              | 0.002022245                                    | 0                                              | 0                                              | \n",
       "| 0044e296ecfe3ba57a351ad2a36d034491e878ce.story | highlight                                      | 2                                              | 0.008547009                                    | 0                                              | 0                                              | \n",
       "| 00465603227f7f56fcd37e10f4cd44e57d7647d8.story | a                                              | 2                                              | 0.055555556                                    | 0                                              | 0                                              | \n",
       "| 00465603227f7f56fcd37e10f4cd44e57d7647d8.story | of                                             | 2                                              | 0.055555556                                    | 0                                              | 0                                              | \n",
       "| 002756fbd876d0da1c7d6e6d464c25d5316de3e8.story | a                                              | 1                                              | 0.007751938                                    | 0                                              | 0                                              | \n",
       "| 00385e5382f413e0c4234ddf71d692ed1e89622f.story | of                                             | 1                                              | 0.004184100                                    | 0                                              | 0                                              | \n",
       "\n",
       "\n"
      ],
      "text/plain": [
       "      story                                          word      n  tf         \n",
       "1     00465603227f7f56fcd37e10f4cd44e57d7647d8.story snapshots  2 0.05555556 \n",
       "2     0044e296ecfe3ba57a351ad2a36d034491e878ce.story crosby    11 0.04700855 \n",
       "3     00465603227f7f56fcd37e10f4cd44e57d7647d8.story cnn.com    2 0.05555556 \n",
       "4     00465603227f7f56fcd37e10f4cd44e57d7647d8.story gallery    2 0.05555556 \n",
       "5     0036c48d80c270465bffced3e233fe39e5950431.story titanic   13 0.04024768 \n",
       "6     000940f2bb357ac04a236a232156d8b9b18d1667.story kasem     18 0.03578529 \n",
       "7     0015194573f9b4430319683cde41e4aa17092a9d.story shark      7 0.03500000 \n",
       "8     000c835555db62e319854d9f8912061cdca1893e.story cardinals 15 0.03355705 \n",
       "9     002c962834b7886c600a31a35053543e324883bd.story hinckley  36 0.03351955 \n",
       "10    002c715ea1428373cc432c9508d4a48d2e6069f4.story app       16 0.03603604 \n",
       "11    001f9c554f1a29169413d0d2f138212a14c6dcf1.story greek      7 0.03004292 \n",
       "12    0044e296ecfe3ba57a351ad2a36d034491e878ce.story jogger     7 0.02991453 \n",
       "13    00385e5382f413e0c4234ddf71d692ed1e89622f.story whale      7 0.02928870 \n",
       "14    001ee59c375363263821474d40e4386ab91d5145.story harvard    7 0.02857143 \n",
       "15    003be5a8108fcd3f133ddef14a5fc593701566f3.story lunar     10 0.02570694 \n",
       "16    00465603227f7f56fcd37e10f4cd44e57d7647d8.story travel     2 0.05555556 \n",
       "17    001f9c554f1a29169413d0d2f138212a14c6dcf1.story libyan     7 0.03004292 \n",
       "18    0015194573f9b4430319683cde41e4aa17092a9d.story maui       5 0.02500000 \n",
       "19    000c835555db62e319854d9f8912061cdca1893e.story francis   11 0.02460850 \n",
       "20    002a083c3893b1fde734280b9eec28d428a02d2b.story space      9 0.03501946 \n",
       "21    002a6553123aa9c80a49b1e6e54c5a684975e452.story mubarak   11 0.02879581 \n",
       "22    001fb4ca3bd3a0c1cd91fdc813f0ebeeac678e76.story garcia    14 0.02874743 \n",
       "23    004cc1a4ecd2ce6327d67b801756847063e48c28.story postal    25 0.02420136 \n",
       "24    0033829349643e2964a8c3ce5fd997116ce43f7c.story mdc       12 0.02371542 \n",
       "25    00465603227f7f56fcd37e10f4cd44e57d7647d8.story ireporter  1 0.02777778 \n",
       "26    00465603227f7f56fcd37e10f4cd44e57d7647d8.story submit     1 0.02777778 \n",
       "27    00465603227f7f56fcd37e10f4cd44e57d7647d8.story weekly     1 0.02777778 \n",
       "28    0043612320aaede50bf515eacc66c7daeee9a21b.story shabaab    9 0.02343750 \n",
       "29    001c839e1d76c400129f6c2799957c74e9895815.story ebola     25 0.02338634 \n",
       "30    002a083c3893b1fde734280b9eec28d428a02d2b.story colbert    6 0.02334630 \n",
       "⋮     ⋮                                              ⋮         ⋮  ⋮          \n",
       "33839 002ab555011a771d8390288495066e30028292ee.story highlight 3  0.005172414\n",
       "33840 002c115c31577d0e9443794d27c2df51312858b4.story highlight 3  0.003432494\n",
       "33841 0031f262451b4b335dfda3aca9b533d244244e1e.story highlight 3  0.004739336\n",
       "33842 003477088ee670dee05e53d0b24ebfcf9a692cec.story highlight 3  0.003045685\n",
       "33843 0036c48d80c270465bffced3e233fe39e5950431.story highlight 3  0.009287926\n",
       "33844 0036d1138155e2644813f9c218c743e982e27a27.story a         3  0.009708738\n",
       "33845 0036d1138155e2644813f9c218c743e982e27a27.story highlight 3  0.009708738\n",
       "33846 003b856704634429282caa28ef8b0c052e04bf18.story highlight 3  0.007058824\n",
       "33847 003be5a8108fcd3f133ddef14a5fc593701566f3.story highlight 3  0.007712082\n",
       "33848 003cefcdcf96dbca76aa17d72ee612fa3b40651d.story highlight 3  0.004043127\n",
       "33849 003d23a256ce34d73e05968a04727c0ed4a2a456.story highlight 3  0.003916449\n",
       "33850 0043612320aaede50bf515eacc66c7daeee9a21b.story highlight 3  0.007812500\n",
       "33851 004636d2b06ffc786148189e4d8e5e950bd46e8f.story highlight 3  0.006315789\n",
       "33852 00465603227f7f56fcd37e10f4cd44e57d7647d8.story highlight 3  0.083333333\n",
       "33853 0046a356cc90e393be41135da101f83da40ee6a3.story highlight 3  0.014285714\n",
       "33854 0046a356cc90e393be41135da101f83da40ee6a3.story of        3  0.014285714\n",
       "33855 004d2253b243331ec330b4bc188f9289fc5730f6.story highlight 3  0.002710027\n",
       "33856 004e6e14b9498ae85e92cbb81adf76ac8b21f472.story highlight 3  0.002727273\n",
       "33857 0015194573f9b4430319683cde41e4aa17092a9d.story a         2  0.010000000\n",
       "33858 0015194573f9b4430319683cde41e4aa17092a9d.story of        2  0.010000000\n",
       "33859 001ee59c375363263821474d40e4386ab91d5145.story highlight 2  0.008163265\n",
       "33860 00200e794fa41d3f7ce92cbf43e9fd4cd652bb09.story highlight 2  0.003952569\n",
       "33861 0029837648b848c9cbde4c26744609e85f528a6c.story highlight 2  0.003490401\n",
       "33862 00385e5382f413e0c4234ddf71d692ed1e89622f.story highlight 2  0.008368201\n",
       "33863 0041698b4463a633f912681b96f73648cb012e33.story highlight 2  0.002022245\n",
       "33864 0044e296ecfe3ba57a351ad2a36d034491e878ce.story highlight 2  0.008547009\n",
       "33865 00465603227f7f56fcd37e10f4cd44e57d7647d8.story a         2  0.055555556\n",
       "33866 00465603227f7f56fcd37e10f4cd44e57d7647d8.story of        2  0.055555556\n",
       "33867 002756fbd876d0da1c7d6e6d464c25d5316de3e8.story a         1  0.007751938\n",
       "33868 00385e5382f413e0c4234ddf71d692ed1e89622f.story of        1  0.004184100\n",
       "      idf      tf_idf   \n",
       "1     4.605170 0.2558428\n",
       "2     4.605170 0.2164824\n",
       "3     3.506558 0.1948088\n",
       "4     3.506558 0.1948088\n",
       "5     4.605170 0.1853474\n",
       "6     4.605170 0.1647973\n",
       "7     4.605170 0.1611810\n",
       "8     4.605170 0.1545359\n",
       "9     4.605170 0.1543632\n",
       "10    3.912023 0.1409738\n",
       "11    4.605170 0.1383528\n",
       "12    4.605170 0.1377615\n",
       "13    4.605170 0.1348795\n",
       "14    4.605170 0.1315763\n",
       "15    4.605170 0.1183848\n",
       "16    2.120264 0.1177924\n",
       "17    3.912023 0.1175286\n",
       "18    4.605170 0.1151293\n",
       "19    4.605170 0.1133263\n",
       "20    3.218876 0.1127233\n",
       "21    3.912023 0.1126499\n",
       "22    3.912023 0.1124606\n",
       "23    4.605170 0.1114514\n",
       "24    4.605170 0.1092135\n",
       "25    3.912023 0.1086673\n",
       "26    3.912023 0.1086673\n",
       "27    3.912023 0.1086673\n",
       "28    4.605170 0.1079337\n",
       "29    4.605170 0.1076981\n",
       "30    4.605170 0.1075137\n",
       "⋮     ⋮        ⋮        \n",
       "33839 0        0        \n",
       "33840 0        0        \n",
       "33841 0        0        \n",
       "33842 0        0        \n",
       "33843 0        0        \n",
       "33844 0        0        \n",
       "33845 0        0        \n",
       "33846 0        0        \n",
       "33847 0        0        \n",
       "33848 0        0        \n",
       "33849 0        0        \n",
       "33850 0        0        \n",
       "33851 0        0        \n",
       "33852 0        0        \n",
       "33853 0        0        \n",
       "33854 0        0        \n",
       "33855 0        0        \n",
       "33856 0        0        \n",
       "33857 0        0        \n",
       "33858 0        0        \n",
       "33859 0        0        \n",
       "33860 0        0        \n",
       "33861 0        0        \n",
       "33862 0        0        \n",
       "33863 0        0        \n",
       "33864 0        0        \n",
       "33865 0        0        \n",
       "33866 0        0        \n",
       "33867 0        0        \n",
       "33868 0        0        "
      ]
     },
     "metadata": {},
     "output_type": "display_data"
    }
   ],
   "source": [
    "tfidf_words %>% arrange(desc(tf_idf))"
   ]
  }
 ],
 "metadata": {
  "kernelspec": {
   "display_name": "R 3.3",
   "language": "R",
   "name": "ir33"
  },
  "language_info": {
   "codemirror_mode": "r",
   "file_extension": ".r",
   "mimetype": "text/x-r-source",
   "name": "R",
   "pygments_lexer": "r",
   "version": "3.4.4"
  }
 },
 "nbformat": 4,
 "nbformat_minor": 2
}
